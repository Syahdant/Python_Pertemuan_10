{
  "nbformat": 4,
  "nbformat_minor": 0,
  "metadata": {
    "colab": {
      "name": "Untitled0.ipynb",
      "provenance": [],
      "collapsed_sections": [],
      "authorship_tag": "ABX9TyMnUPRlfaoEbP5IswJLD1DZ",
      "include_colab_link": true
    },
    "kernelspec": {
      "name": "python3",
      "display_name": "Python 3"
    }
  },
  "cells": [
    {
      "cell_type": "markdown",
      "metadata": {
        "id": "view-in-github",
        "colab_type": "text"
      },
      "source": [
        "<a href=\"https://colab.research.google.com/github/Syahdant/Python_Pertemuan_10/blob/main/Tugas%20Pertemuan%2010.ipynb\" target=\"_parent\"><img src=\"https://colab.research.google.com/assets/colab-badge.svg\" alt=\"Open In Colab\"/></a>"
      ]
    },
    {
      "cell_type": "code",
      "metadata": {
        "colab": {
          "base_uri": "https://localhost:8080/"
        },
        "id": "sUmK43Azet4Z",
        "outputId": "6dedf35d-e31f-4655-ea1c-7cd2c7340149"
      },
      "source": [
        "from google.colab import drive\n",
        "drive.mount('/content/drive')"
      ],
      "execution_count": 1,
      "outputs": [
        {
          "output_type": "stream",
          "text": [
            "Mounted at /content/drive\n"
          ],
          "name": "stdout"
        }
      ]
    },
    {
      "cell_type": "code",
      "metadata": {
        "colab": {
          "base_uri": "https://localhost:8080/"
        },
        "id": "JMZUNqM3e7Ah",
        "outputId": "255bbd11-c82b-47da-b9c8-9585350d3ddb"
      },
      "source": [
        "cd /content/drive/MyDrive/Google Colab"
      ],
      "execution_count": 2,
      "outputs": [
        {
          "output_type": "stream",
          "text": [
            "/content/drive/MyDrive/Google Colab\n"
          ],
          "name": "stdout"
        }
      ]
    },
    {
      "cell_type": "code",
      "metadata": {
        "colab": {
          "base_uri": "https://localhost:8080/"
        },
        "id": "bVTm63LbfC14",
        "outputId": "d9170872-604b-4fd6-d260-cd0aad13bf93"
      },
      "source": [
        "ls"
      ],
      "execution_count": 3,
      "outputs": [
        {
          "output_type": "stream",
          "text": [
            "\u001b[0m\u001b[01;34mMotor\u001b[0m/\n"
          ],
          "name": "stdout"
        }
      ]
    },
    {
      "cell_type": "code",
      "metadata": {
        "id": "ioKagjAmfD2n"
      },
      "source": [
        "from keras.models import Sequential\n",
        "from keras.layers.convolutional import Conv2D\n",
        "from keras.layers.convolutional import MaxPooling2D\n",
        "from keras.layers.core import Activation\n",
        "from keras.layers.core import Flatten\n",
        "from keras.layers.core import Dense\n",
        "from keras.optimizers import Adam\n",
        "from sklearn.preprocessing import LabelBinarizer\n",
        "from sklearn.model_selection import train_test_split\n",
        "from sklearn.metrics import classification_report\n",
        "from PIL import Image\n",
        "from imutils import paths\n",
        "import numpy as np\n",
        "import os"
      ],
      "execution_count": 4,
      "outputs": []
    },
    {
      "cell_type": "code",
      "metadata": {
        "colab": {
          "base_uri": "https://localhost:8080/"
        },
        "id": "x3ar6V1PfIax",
        "outputId": "8a5905f9-4d39-4ff4-a04c-595a6e37a8b1"
      },
      "source": [
        "print(\"[INFO] loading images...\")\n",
        "imagePaths = paths.list_images(\"Motor\")\n",
        "data = []\n",
        "labels = []"
      ],
      "execution_count": 8,
      "outputs": [
        {
          "output_type": "stream",
          "text": [
            "[INFO] loading images...\n"
          ],
          "name": "stdout"
        }
      ]
    },
    {
      "cell_type": "code",
      "metadata": {
        "id": "mAt1wY-pfMLc"
      },
      "source": [
        "for imagePath in imagePaths:\n",
        "\t# load the input image from disk, resize it to 64x64 pixels, scale\n",
        "\t# the pixel intensities to the range [0, 1], and then update our\n",
        "\t# images list\n",
        "\timage = Image.open(imagePath)\n",
        "\timage = np.array(image.resize((224, 224))) / 255.0\n",
        "\tdata.append(image)\n",
        "\n",
        "\t# extract the class label from the file path and update the\n",
        "\t# labels list\n",
        "\tlabel = imagePath.split(os.path.sep)[-2]\n",
        "\tlabels.append(label)"
      ],
      "execution_count": 9,
      "outputs": []
    },
    {
      "cell_type": "code",
      "metadata": {
        "colab": {
          "base_uri": "https://localhost:8080/"
        },
        "id": "_-X9AqFdfRa4",
        "outputId": "61eceda9-2229-48ac-f3b8-9ff36bc1e7b7"
      },
      "source": [
        "print(labels)"
      ],
      "execution_count": 10,
      "outputs": [
        {
          "output_type": "stream",
          "text": [
            "['adventure', 'adventure', 'adventure', 'adventure', 'adventure', 'naked', 'naked', 'naked', 'naked', 'naked', 'sport', 'sport', 'sport', 'sport', 'sport']\n"
          ],
          "name": "stdout"
        }
      ]
    },
    {
      "cell_type": "code",
      "metadata": {
        "id": "ctPW0LJBfYGV"
      },
      "source": [
        "lb = LabelBinarizer()\n",
        "labels = lb.fit_transform(labels)"
      ],
      "execution_count": 11,
      "outputs": []
    },
    {
      "cell_type": "code",
      "metadata": {
        "id": "bJVFJibffbFn"
      },
      "source": [
        "print(labels)"
      ],
      "execution_count": null,
      "outputs": []
    },
    {
      "cell_type": "code",
      "metadata": {
        "colab": {
          "base_uri": "https://localhost:8080/"
        },
        "id": "WRaNdIE5fefy",
        "outputId": "75bd31ce-8778-4bc5-8bec-c4faeb76fc47"
      },
      "source": [
        "(trainX, testX, trainY, testY) = train_test_split(np.array(data),\tnp.array(labels), test_size=0.25,shuffle=True)\n",
        "print(trainX.shape)\n",
        "print(testX.shape)"
      ],
      "execution_count": 14,
      "outputs": [
        {
          "output_type": "stream",
          "text": [
            "(11, 224, 224, 3)\n",
            "(4, 224, 224, 3)\n"
          ],
          "name": "stdout"
        }
      ]
    },
    {
      "cell_type": "code",
      "metadata": {
        "id": "xOYV9talfh5f"
      },
      "source": [
        "from keras.models import Sequential\n",
        "from keras.layers.core import Flatten\n",
        "from keras.layers.core import Dense\n",
        "\n",
        "model = Sequential(\n",
        "\t[\n",
        "\t\tFlatten(input_shape=(224*224*3,)),\n",
        "\t\tDense(100, activation=\"relu\", name=\"layer1\"),\n",
        "\t\tDense(16, activation=\"relu\", name=\"layer2\"),\n",
        "\t\tDense(16, activation=\"relu\", name=\"layer3\"),\n",
        "\t\tDense(3, activation = \"softmax\", name=\"layer4\"),\n",
        "\t]\n",
        ")"
      ],
      "execution_count": 17,
      "outputs": []
    },
    {
      "cell_type": "code",
      "metadata": {
        "colab": {
          "base_uri": "https://localhost:8080/"
        },
        "id": "gNNRAb-3lhN9",
        "outputId": "5ff8a26a-a1f8-463c-d759-be0e75eb7ce0"
      },
      "source": [
        "model.summary()"
      ],
      "execution_count": 18,
      "outputs": [
        {
          "output_type": "stream",
          "text": [
            "Model: \"sequential\"\n",
            "_________________________________________________________________\n",
            "Layer (type)                 Output Shape              Param #   \n",
            "=================================================================\n",
            "flatten (Flatten)            (None, 150528)            0         \n",
            "_________________________________________________________________\n",
            "layer1 (Dense)               (None, 100)               15052900  \n",
            "_________________________________________________________________\n",
            "layer2 (Dense)               (None, 16)                1616      \n",
            "_________________________________________________________________\n",
            "layer3 (Dense)               (None, 16)                272       \n",
            "_________________________________________________________________\n",
            "layer4 (Dense)               (None, 3)                 51        \n",
            "=================================================================\n",
            "Total params: 15,054,839\n",
            "Trainable params: 15,054,839\n",
            "Non-trainable params: 0\n",
            "_________________________________________________________________\n"
          ],
          "name": "stdout"
        }
      ]
    },
    {
      "cell_type": "code",
      "metadata": {
        "colab": {
          "base_uri": "https://localhost:8080/"
        },
        "id": "P0WHTiICn1cf",
        "outputId": "0dac330a-ca8d-4ffa-a07b-e355d2d25e45"
      },
      "source": [
        "print(\"[INFO] training network...\")\n",
        "opt = Adam(lr=1e-3, decay=1e-3 / 50)\n",
        "model.compile(loss=\"categorical_crossentropy\", optimizer=opt,\n",
        "\tmetrics=[\"accuracy\"])\n",
        "H = model.fit(trainX, trainY, validation_data=(testX, testY), epochs=25, batch_size=5)"
      ],
      "execution_count": 28,
      "outputs": [
        {
          "output_type": "stream",
          "text": [
            "[INFO] training network...\n",
            "Epoch 1/25\n",
            "WARNING:tensorflow:Model was constructed with shape (None, 150528) for input Tensor(\"flatten_input:0\", shape=(None, 150528), dtype=float32), but it was called on an input with incompatible shape (None, 224, 224, 3).\n",
            "WARNING:tensorflow:Model was constructed with shape (None, 150528) for input Tensor(\"flatten_input:0\", shape=(None, 150528), dtype=float32), but it was called on an input with incompatible shape (None, 224, 224, 3).\n",
            "3/3 [==============================] - ETA: 0s - loss: 0.0000e+00 - accuracy: 1.0000WARNING:tensorflow:Model was constructed with shape (None, 150528) for input Tensor(\"flatten_input:0\", shape=(None, 150528), dtype=float32), but it was called on an input with incompatible shape (None, 224, 224, 3).\n",
            "3/3 [==============================] - 0s 141ms/step - loss: 0.0000e+00 - accuracy: 1.0000 - val_loss: 4.6665 - val_accuracy: 0.7500\n",
            "Epoch 2/25\n",
            "3/3 [==============================] - 0s 49ms/step - loss: 0.0000e+00 - accuracy: 1.0000 - val_loss: 4.6666 - val_accuracy: 0.7500\n",
            "Epoch 3/25\n",
            "3/3 [==============================] - 0s 49ms/step - loss: 0.0000e+00 - accuracy: 1.0000 - val_loss: 4.6668 - val_accuracy: 0.7500\n",
            "Epoch 4/25\n",
            "3/3 [==============================] - 0s 51ms/step - loss: 0.0000e+00 - accuracy: 1.0000 - val_loss: 4.6676 - val_accuracy: 0.7500\n",
            "Epoch 5/25\n",
            "3/3 [==============================] - 0s 49ms/step - loss: 0.0000e+00 - accuracy: 1.0000 - val_loss: 4.6683 - val_accuracy: 0.7500\n",
            "Epoch 6/25\n",
            "3/3 [==============================] - 0s 49ms/step - loss: 0.0000e+00 - accuracy: 1.0000 - val_loss: 4.6684 - val_accuracy: 0.7500\n",
            "Epoch 7/25\n",
            "3/3 [==============================] - 0s 50ms/step - loss: 0.0000e+00 - accuracy: 1.0000 - val_loss: 4.6681 - val_accuracy: 0.7500\n",
            "Epoch 8/25\n",
            "3/3 [==============================] - 0s 49ms/step - loss: 0.0000e+00 - accuracy: 1.0000 - val_loss: 4.6708 - val_accuracy: 0.7500\n",
            "Epoch 9/25\n",
            "3/3 [==============================] - 0s 49ms/step - loss: 0.0000e+00 - accuracy: 1.0000 - val_loss: 4.6780 - val_accuracy: 0.7500\n",
            "Epoch 10/25\n",
            "3/3 [==============================] - 0s 49ms/step - loss: 0.0000e+00 - accuracy: 1.0000 - val_loss: 4.6841 - val_accuracy: 0.7500\n",
            "Epoch 11/25\n",
            "3/3 [==============================] - 0s 50ms/step - loss: 0.0000e+00 - accuracy: 1.0000 - val_loss: 4.6887 - val_accuracy: 0.7500\n",
            "Epoch 12/25\n",
            "3/3 [==============================] - 0s 52ms/step - loss: 0.0000e+00 - accuracy: 1.0000 - val_loss: 4.6922 - val_accuracy: 0.7500\n",
            "Epoch 13/25\n",
            "3/3 [==============================] - 0s 48ms/step - loss: 0.0000e+00 - accuracy: 1.0000 - val_loss: 4.6924 - val_accuracy: 0.7500\n",
            "Epoch 14/25\n",
            "3/3 [==============================] - 0s 48ms/step - loss: 0.0000e+00 - accuracy: 1.0000 - val_loss: 4.6844 - val_accuracy: 0.7500\n",
            "Epoch 15/25\n",
            "3/3 [==============================] - 0s 50ms/step - loss: 0.0000e+00 - accuracy: 1.0000 - val_loss: 4.6708 - val_accuracy: 0.7500\n",
            "Epoch 16/25\n",
            "3/3 [==============================] - 0s 52ms/step - loss: 0.0000e+00 - accuracy: 1.0000 - val_loss: 4.6616 - val_accuracy: 0.7500\n",
            "Epoch 17/25\n",
            "3/3 [==============================] - 0s 53ms/step - loss: 0.0000e+00 - accuracy: 1.0000 - val_loss: 4.6551 - val_accuracy: 0.7500\n",
            "Epoch 18/25\n",
            "3/3 [==============================] - 0s 52ms/step - loss: 0.0000e+00 - accuracy: 1.0000 - val_loss: 4.6482 - val_accuracy: 0.7500\n",
            "Epoch 19/25\n",
            "3/3 [==============================] - 0s 50ms/step - loss: 0.0000e+00 - accuracy: 1.0000 - val_loss: 4.6386 - val_accuracy: 0.7500\n",
            "Epoch 20/25\n",
            "3/3 [==============================] - 0s 52ms/step - loss: 0.0000e+00 - accuracy: 1.0000 - val_loss: 4.6315 - val_accuracy: 0.7500\n",
            "Epoch 21/25\n",
            "3/3 [==============================] - 0s 56ms/step - loss: 0.0000e+00 - accuracy: 1.0000 - val_loss: 4.6298 - val_accuracy: 0.7500\n",
            "Epoch 22/25\n",
            "3/3 [==============================] - 0s 52ms/step - loss: 0.0000e+00 - accuracy: 1.0000 - val_loss: 4.6375 - val_accuracy: 0.7500\n",
            "Epoch 23/25\n",
            "3/3 [==============================] - 0s 53ms/step - loss: 0.0000e+00 - accuracy: 1.0000 - val_loss: 4.6439 - val_accuracy: 0.7500\n",
            "Epoch 24/25\n",
            "3/3 [==============================] - 0s 51ms/step - loss: 0.0000e+00 - accuracy: 1.0000 - val_loss: 4.6500 - val_accuracy: 0.7500\n",
            "Epoch 25/25\n",
            "3/3 [==============================] - 0s 52ms/step - loss: 0.0000e+00 - accuracy: 1.0000 - val_loss: 4.6538 - val_accuracy: 0.7500\n"
          ],
          "name": "stdout"
        }
      ]
    },
    {
      "cell_type": "code",
      "metadata": {
        "colab": {
          "base_uri": "https://localhost:8080/",
          "height": 590
        },
        "id": "h-xnXus-qvzo",
        "outputId": "2d364d1a-851c-42a0-e9eb-87faeabd776d"
      },
      "source": [
        "import matplotlib.pyplot as plt\n",
        "print(H.history.keys())\n",
        "# summarize history for accuracy\n",
        "plt.plot(H.history['accuracy'])\n",
        "plt.plot(H.history['val_accuracy'])\n",
        "plt.title('model accuracy')\n",
        "plt.ylabel('accuracy')\n",
        "plt.xlabel('epoch')\n",
        "plt.legend(['train', 'test'], loc='upper left')\n",
        "plt.show()\n",
        "# summarize history for loss\n",
        "plt.plot(H.history['loss'])\n",
        "plt.plot(H.history['val_loss'])\n",
        "plt.title('model loss')\n",
        "plt.ylabel('loss')\n",
        "plt.xlabel('epoch')\n",
        "plt.legend(['train', 'test'], loc='upper left')\n",
        "plt.show()"
      ],
      "execution_count": 30,
      "outputs": [
        {
          "output_type": "stream",
          "text": [
            "dict_keys(['loss', 'accuracy', 'val_loss', 'val_accuracy'])\n"
          ],
          "name": "stdout"
        },
        {
          "output_type": "display_data",
          "data": {
            "image/png": "[encoded data removed]",
            "text/plain": [
              "<Figure size 432x288 with 1 Axes>"
            ]
          },
          "metadata": {
            "tags": [],
            "needs_background": "light"
          }
        },
        {
          "output_type": "display_data",
          "data": {
            "image/png": "[encoded data removed]",
            "text/plain": [
              "<Figure size 432x288 with 1 Axes>"
            ]
          },
          "metadata": {
            "tags": [],
            "needs_background": "light"
          }
        }
      ]
    },
    {
      "cell_type": "code",
      "metadata": {
        "colab": {
          "base_uri": "https://localhost:8080/"
        },
        "id": "eSD71IJ0rCVc",
        "outputId": "67a65590-99fd-4c90-8e9f-74d68f6774c7"
      },
      "source": [
        "print(\"[INFO] evaluating network...\")\n",
        "predictions = model.predict(testX, batch_size=5)\n",
        "print(classification_report(testY.argmax(axis=1),\n",
        "\tpredictions.argmax(axis=1), target_names=lb.classes_))"
      ],
      "execution_count": 31,
      "outputs": [
        {
          "output_type": "stream",
          "text": [
            "[INFO] evaluating network...\n",
            "WARNING:tensorflow:Model was constructed with shape (None, 150528) for input Tensor(\"flatten_input:0\", shape=(None, 150528), dtype=float32), but it was called on an input with incompatible shape (None, 224, 224, 3).\n",
            "              precision    recall  f1-score   support\n",
            "\n",
            "   adventure       1.00      0.50      0.67         2\n",
            "       naked       1.00      1.00      1.00         2\n",
            "       sport       0.00      0.00      0.00         0\n",
            "\n",
            "    accuracy                           0.75         4\n",
            "   macro avg       0.67      0.50      0.56         4\n",
            "weighted avg       1.00      0.75      0.83         4\n",
            "\n"
          ],
          "name": "stdout"
        },
        {
          "output_type": "stream",
          "text": [
            "/usr/local/lib/python3.6/dist-packages/sklearn/metrics/_classification.py:1272: UndefinedMetricWarning: Recall and F-score are ill-defined and being set to 0.0 in labels with no true samples. Use `zero_division` parameter to control this behavior.\n",
            "  _warn_prf(average, modifier, msg_start, len(result))\n"
          ],
          "name": "stderr"
        }
      ]
    }
  ]
}